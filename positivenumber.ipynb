{
 "cells": [
  {
   "cell_type": "code",
   "execution_count": 3,
   "id": "544cc077-bdd9-4ab9-ac16-36874be024be",
   "metadata": {},
   "outputs": [
    {
     "name": "stdout",
     "output_type": "stream",
     "text": [
      "12 5 64 "
     ]
    }
   ],
   "source": [
    "list1 = [12, -7, 5, 64, -14]\n",
    "for num in list1:\n",
    "    if num >= 0:\n",
    "       print(num, end = \" \")\n"
   ]
  },
  {
   "cell_type": "code",
   "execution_count": 4,
   "id": "43ffd03e-2d2c-41e7-a3de-8339b0d77242",
   "metadata": {},
   "outputs": [
    {
     "name": "stdout",
     "output_type": "stream",
     "text": [
      "12 14 3 "
     ]
    }
   ],
   "source": [
    "list2 = [12, 14, -95, 3]\n",
    "for num2 in list2:   \n",
    "    if num2 >= 0:\n",
    "       print(num2, end = \" \")"
   ]
  },
  {
   "cell_type": "code",
   "execution_count": null,
   "id": "83d29ddf-0309-4579-9549-12ee4d00128a",
   "metadata": {},
   "outputs": [],
   "source": []
  }
 ],
 "metadata": {
  "kernelspec": {
   "display_name": "Python 3",
   "language": "python",
   "name": "python3"
  },
  "language_info": {
   "codemirror_mode": {
    "name": "ipython",
    "version": 3
   },
   "file_extension": ".py",
   "mimetype": "text/x-python",
   "name": "python",
   "nbconvert_exporter": "python",
   "pygments_lexer": "ipython3",
   "version": "3.8.8"
  }
 },
 "nbformat": 4,
 "nbformat_minor": 5
}
